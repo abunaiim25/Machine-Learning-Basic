{
 "cells": [
  {
   "cell_type": "markdown",
   "id": "5d75e112",
   "metadata": {},
   "source": [
    "# Pickle"
   ]
  },
  {
   "cell_type": "code",
   "execution_count": 10,
   "id": "28f73878",
   "metadata": {},
   "outputs": [],
   "source": [
    "import pickle as pk\n",
    "\n",
    "with open('My_Model1','rb') as file:\n",
    "    model1 = pk.load(file)"
   ]
  },
  {
   "cell_type": "code",
   "execution_count": 11,
   "id": "5aeb3e99",
   "metadata": {},
   "outputs": [
    {
     "name": "stderr",
     "output_type": "stream",
     "text": [
      "C:\\Users\\Abu Naiim\\anaconda3\\lib\\site-packages\\sklearn\\base.py:420: UserWarning: X does not have valid feature names, but LinearRegression was fitted with feature names\n",
      "  warnings.warn(\n"
     ]
    },
    {
     "data": {
      "text/plain": [
       "array([71.37146872])"
      ]
     },
     "execution_count": 11,
     "metadata": {},
     "output_type": "execute_result"
    }
   ],
   "source": [
    "model1.predict([[160, 10, 5]])"
   ]
  },
  {
   "cell_type": "code",
   "execution_count": 12,
   "id": "383f03c2",
   "metadata": {},
   "outputs": [],
   "source": [
    "# another way\n",
    "import pickle as pk\n",
    "model2 = pk.load(open('My_Model1','rb'))"
   ]
  },
  {
   "cell_type": "code",
   "execution_count": 13,
   "id": "5e2fb307",
   "metadata": {},
   "outputs": [
    {
     "name": "stderr",
     "output_type": "stream",
     "text": [
      "C:\\Users\\Abu Naiim\\anaconda3\\lib\\site-packages\\sklearn\\base.py:420: UserWarning: X does not have valid feature names, but LinearRegression was fitted with feature names\n",
      "  warnings.warn(\n"
     ]
    },
    {
     "data": {
      "text/plain": [
       "array([71.37146872])"
      ]
     },
     "execution_count": 13,
     "metadata": {},
     "output_type": "execute_result"
    }
   ],
   "source": [
    "model1.predict([[160, 10, 5]])"
   ]
  },
  {
   "cell_type": "markdown",
   "id": "b02d03e4",
   "metadata": {},
   "source": [
    "# Joblib "
   ]
  },
  {
   "cell_type": "code",
   "execution_count": 15,
   "id": "20624358",
   "metadata": {},
   "outputs": [],
   "source": [
    "import joblib as jbl\n",
    "model3 = jbl.load('My_Model3')"
   ]
  },
  {
   "cell_type": "code",
   "execution_count": 16,
   "id": "3b59916d",
   "metadata": {},
   "outputs": [
    {
     "name": "stderr",
     "output_type": "stream",
     "text": [
      "C:\\Users\\Abu Naiim\\anaconda3\\lib\\site-packages\\sklearn\\base.py:420: UserWarning: X does not have valid feature names, but LinearRegression was fitted with feature names\n",
      "  warnings.warn(\n"
     ]
    },
    {
     "data": {
      "text/plain": [
       "array([71.37146872])"
      ]
     },
     "execution_count": 16,
     "metadata": {},
     "output_type": "execute_result"
    }
   ],
   "source": [
    "model3.predict([[160, 10, 5]])"
   ]
  },
  {
   "cell_type": "code",
   "execution_count": null,
   "id": "21e67fa9",
   "metadata": {},
   "outputs": [],
   "source": []
  }
 ],
 "metadata": {
  "kernelspec": {
   "display_name": "Python 3 (ipykernel)",
   "language": "python",
   "name": "python3"
  },
  "language_info": {
   "codemirror_mode": {
    "name": "ipython",
    "version": 3
   },
   "file_extension": ".py",
   "mimetype": "text/x-python",
   "name": "python",
   "nbconvert_exporter": "python",
   "pygments_lexer": "ipython3",
   "version": "3.10.9"
  }
 },
 "nbformat": 4,
 "nbformat_minor": 5
}
